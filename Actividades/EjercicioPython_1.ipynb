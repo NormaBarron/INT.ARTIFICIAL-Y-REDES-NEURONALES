{
  "cells": [
    {
      "cell_type": "markdown",
      "metadata": {
        "id": "C-jIjZHapokn"
      },
      "source": [
        "Actividad 2: Diseño de algoritmos en Python\n",
        "Norma Guadalupe Barrón Rodríguez 1999687 Hora: N1"
      ]
    },
    {
      "cell_type": "code",
      "execution_count": null,
      "metadata": {
        "colab": {
          "base_uri": "https://localhost:8080/"
        },
        "id": "LBE4uSRhs1BJ",
        "outputId": "5cae2189-1b75-4fd5-ef6a-9f1757d8061a"
      },
      "outputs": [
        {
          "name": "stdout",
          "output_type": "stream",
          "text": [
            "Ingrese su nombre: Juan\n",
            "Hola\n"
          ]
        }
      ],
      "source": [
        "#Desarrolla un algoritmo que le pida al usuario por su nombre y que lo salude con su nombre, excepto si se llama “Ana”, “Juan”, y “Pedro”.\n",
        "\n",
        "nombre = input(\"Ingrese su nombre: \")\n",
        "if nombre in [\"Ana\", \"Juan\", \"Pedro\"]:\n",
        "    print(\"Hola\")\n",
        "else:\n",
        "    print(\"Hola,\", nombre)\n"
      ]
    },
    {
      "cell_type": "code",
      "execution_count": null,
      "metadata": {
        "colab": {
          "base_uri": "https://localhost:8080/"
        },
        "id": "4IXIEDxltBdQ",
        "outputId": "ded10eef-6407-4d66-b77a-3af612d80d33"
      },
      "outputs": [
        {
          "name": "stdout",
          "output_type": "stream",
          "text": [
            "Ingrese la cantidad de elementos de la lista: 5\n",
            "Ingrese el elemento 1: leche\n",
            "Ingrese el elemento 2: huevos\n",
            "Ingrese el elemento 3: harina\n",
            "Ingrese el elemento 4: aceite\n",
            "Ingrese el elemento 5: chocolate\n",
            "Lista: ['chocolate', 'aceite', 'harina', 'huevos', 'leche']\n"
          ]
        }
      ],
      "source": [
        "#Desarrolla un algoritmo que por medio de una función, le pida al usuario una lista de N elementos y como resultado invierta el sentido de la lista.\n",
        "\n",
        "N = int(input(\"Ingrese la cantidad de elementos de la lista: \"))\n",
        "\n",
        "lista = [input(f\"Ingrese el elemento {i+1}: \") for i in range(N)]\n",
        "\n",
        "lista_invertida = lista[::-1]\n",
        "\n",
        "print(\"Lista:\", lista_invertida)\n"
      ]
    },
    {
      "cell_type": "code",
      "execution_count": null,
      "metadata": {
        "colab": {
          "base_uri": "https://localhost:8080/"
        },
        "id": "MjZXhWw5taRb",
        "outputId": "8ccdd77a-5fbb-4742-98d2-135441a77c8c"
      },
      "outputs": [
        {
          "name": "stdout",
          "output_type": "stream",
          "text": [
            "¿Cuántos números de la serie de Fibonacci que desea generar?: 100\n",
            "Serie de Fibonacci: [0, 1, 1, 2, 3, 5, 8, 13, 21, 34, 55, 89, 144, 233, 377, 610, 987, 1597, 2584, 4181, 6765, 10946, 17711, 28657, 46368, 75025, 121393, 196418, 317811, 514229, 832040, 1346269, 2178309, 3524578, 5702887, 9227465, 14930352, 24157817, 39088169, 63245986, 102334155, 165580141, 267914296, 433494437, 701408733, 1134903170, 1836311903, 2971215073, 4807526976, 7778742049, 12586269025, 20365011074, 32951280099, 53316291173, 86267571272, 139583862445, 225851433717, 365435296162, 591286729879, 956722026041, 1548008755920, 2504730781961, 4052739537881, 6557470319842, 10610209857723, 17167680177565, 27777890035288, 44945570212853, 72723460248141, 117669030460994, 190392490709135, 308061521170129, 498454011879264, 806515533049393, 1304969544928657, 2111485077978050, 3416454622906707, 5527939700884757, 8944394323791464, 14472334024676221, 23416728348467685, 37889062373143906, 61305790721611591, 99194853094755497, 160500643816367088, 259695496911122585, 420196140727489673, 679891637638612258, 1100087778366101931, 1779979416004714189, 2880067194370816120, 4660046610375530309, 7540113804746346429, 12200160415121876738, 19740274219868223167, 31940434634990099905, 51680708854858323072, 83621143489848422977, 135301852344706746049, 218922995834555169026]\n"
          ]
        }
      ],
      "source": [
        "#Desarrolla un algoritmo que le pregunte al usuario cuántos números de la serie de Fibonacci quiere generar y que al final los imprima.\n",
        "\n",
        "n = int(input(\"¿Cuántos números de la serie de Fibonacci que desea generar?: \"))\n",
        "\n",
        "fibonacci_series = [0, 1]\n",
        "\n",
        "while len(fibonacci_series) < n:\n",
        "    fibonacci_series.append(fibonacci_series[-1] + fibonacci_series[-2])\n",
        "\n",
        "# Mostrar la serie de Fibonacci\n",
        "print(\"Serie de Fibonacci:\", fibonacci_series[:n])\n",
        "\n"
      ]
    },
    {
      "cell_type": "code",
      "execution_count": null,
      "metadata": {
        "colab": {
          "base_uri": "https://localhost:8080/"
        },
        "id": "fmpU9f92tkmL",
        "outputId": "38c77303-dcec-4341-b3db-d64f835ed887"
      },
      "outputs": [
        {
          "name": "stdout",
          "output_type": "stream",
          "text": [
            "Adivina el número (entre 1 y 100): 50\n",
            "El número es menor.\n",
            "Adivina el número (entre 1 y 100): 25\n",
            "El número es menor.\n",
            "Adivina el número (entre 1 y 100): 14\n",
            "El número es mayor.\n",
            "Adivina el número (entre 1 y 100): 15\n",
            "El número es mayor.\n",
            "Adivina el número (entre 1 y 100): 17\n",
            "El número es mayor.\n",
            "Adivina el número (entre 1 y 100): 19\n",
            "El número es menor.\n",
            "Adivina el número (entre 1 y 100): 28\n",
            "El número es menor.\n",
            "Adivina el número (entre 1 y 100): 18\n",
            "Has adivinado el número\n"
          ]
        }
      ],
      "source": [
        "#Juego de adivinar el número: Crea un programa que genere un número aleatorio entre 1 y 100, y luego le pida al usuario que adivine el número. El programa debe proporcionar pistas al usuario si el número es mayor o menor que el número objetivo, y seguir solicitando un nuevo intento hasta que el usuario adivine correctamente.\n",
        "\n",
        "numero_objetivo = random.randint(1, 100)\n",
        "adivinado = False\n",
        "\n",
        "while not adivinado:\n",
        "    intento = int(input(\"Adivina el número (entre 1 y 100): \"))\n",
        "    if intento < numero_objetivo:\n",
        "        print(\"El número es mayor.\")\n",
        "    elif intento > numero_objetivo:\n",
        "        print(\"El número es menor.\")\n",
        "    else:\n",
        "        print(\"Has adivinado el número\")\n",
        "        adivinado = True\n"
      ]
    },
    {
      "cell_type": "code",
      "execution_count": null,
      "metadata": {
        "colab": {
          "base_uri": "https://localhost:8080/"
        },
        "id": "-fxDgkBNtnXg",
        "outputId": "a87d0825-01e8-49a6-9972-f6707c81130e"
      },
      "outputs": [
        {
          "name": "stdout",
          "output_type": "stream",
          "text": [
            "Ingrese el inicio del rango: 0\n",
            "Ingrese el fin del rango: 100\n",
            "Números primos en el rango dado:\n",
            "2\n",
            "3\n",
            "5\n",
            "7\n",
            "11\n",
            "13\n",
            "17\n",
            "19\n",
            "23\n",
            "29\n",
            "31\n",
            "37\n",
            "41\n",
            "43\n",
            "47\n",
            "53\n",
            "59\n",
            "61\n",
            "67\n",
            "71\n",
            "73\n",
            "79\n",
            "83\n",
            "89\n",
            "97\n"
          ]
        }
      ],
      "source": [
        "#Ejercicio de cálculo de números primos en un rango dado: Escribe un programa que solicite al usuario un rango de números y muestre todos los números primos dentro de ese rango.\n",
        "\n",
        "inicio = int(input(\"Ingrese el inicio del rango: \"))\n",
        "fin = int(input(\"Ingrese el fin del rango: \"))\n",
        "\n",
        "print(\"Números primos en el rango dado:\")\n",
        "for numero in range(inicio, fin + 1):\n",
        "    if numero > 1:\n",
        "        primo = True\n",
        "        for i in range(2, numero):\n",
        "            if numero % i == 0:\n",
        "                primo = False\n",
        "\n",
        "        if primo:\n",
        "            print(numero)\n",
        "\n"
      ]
    },
    {
      "cell_type": "code",
      "execution_count": null,
      "metadata": {
        "colab": {
          "base_uri": "https://localhost:8080/"
        },
        "id": "phWyZAMGtqVp",
        "outputId": "242fabd4-95be-4f24-cf9b-937483212df4"
      },
      "outputs": [
        {
          "metadata": {
            "tags": null
          },
          "name": "stdout",
          "output_type": "stream",
          "text": [
            "Resultado: 60.0\n",
            "Resultado: -20.0\n",
            "Resultado: 800.0\n",
            "Resultado: 0.5\n"
          ]
        }
      ],
      "source": [
        "#Ejercicio de implementación de una calculadora básica utilizando funciones: Escribe un programa que solicite al usuario dos números y realice operaciones básicas como suma, resta, multiplicación y división utilizando funciones separadas para cada operación.\n",
        "\n",
        "while True:\n",
        "    num1 = float(input(\"Ingrese el primer número: \"))\n",
        "    num2 = float(input(\"Ingrese el segundo número: \"))\n",
        "    operacion = input(\"Ingrese la operación a realizar (+, -, *, /): \")\n",
        "\n",
        "    if operacion == \"+\":\n",
        "        print(\"Resultado:\", num1 + num2)\n",
        "    elif operacion == \"-\":\n",
        "        print(\"Resultado:\", num1 - num2)\n",
        "    elif operacion == \"*\":\n",
        "        print(\"Resultado:\", num1 * num2)\n",
        "    elif operacion == \"/\":\n",
        "        if num2 != 0:\n",
        "            print(\"Resultado:\", num1 / num2)\n",
        "        else:\n",
        "            print(\"Error: No se puede dividir entre cero.\")\n",
        "    else:\n",
        "        print(\"Operación no válida.\")\n",
        "\n",
        "\n"
      ]
    },
    {
      "cell_type": "code",
      "execution_count": null,
      "metadata": {
        "id": "DPANInBAulu1"
      },
      "outputs": [],
      "source": []
    }
  ],
  "metadata": {
    "colab": {
      "provenance": []
    },
    "kernelspec": {
      "display_name": "Python 3",
      "name": "python3"
    },
    "language_info": {
      "name": "python"
    }
  },
  "nbformat": 4,
  "nbformat_minor": 0
}